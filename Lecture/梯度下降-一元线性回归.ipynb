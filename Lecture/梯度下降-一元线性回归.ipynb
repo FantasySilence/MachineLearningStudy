{
 "cells": [
  {
   "cell_type": "markdown",
   "metadata": {},
   "source": [
    "# 梯度下降算法： 一元线性回归"
   ]
  },
  {
   "cell_type": "markdown",
   "metadata": {},
   "source": [
    "## 1. 生成数据"
   ]
  },
  {
   "cell_type": "markdown",
   "metadata": {},
   "source": [
    "实例数m=100, 一个特征x， 输出为y\n",
    "\n",
    "$y = \\theta_0 + \\theta_1x + \\epsilon$, 假设$x$为服从标准正态分布的变量，$\\epsilon$也是服从标准正态分布的变量, $\\theta_0=1$, $\\theta_1=5$"
   ]
  },
  {
   "cell_type": "markdown",
   "metadata": {},
   "source": [
    "### 1.1 生成特征x (一维)： 假设x是服从标准正态的变量"
   ]
  },
  {
   "cell_type": "markdown",
   "metadata": {},
   "source": [
    "使用numpy中的random.normal函数：\n",
    "https://numpy.org/doc/stable/reference/random/generated/numpy.random.normal.html"
   ]
  },
  {
   "cell_type": "code",
   "execution_count": 1,
   "metadata": {},
   "outputs": [],
   "source": [
    "import numpy as np\n",
    "\n",
    "n_sample = 100 ## 实例数为100\n",
    "\n",
    "x = np.random.normal(loc=0.0, scale = 1.0, size=(n_sample)) ## loc代表均值，scale代表标准差，size代表数据的维数"
   ]
  },
  {
   "cell_type": "code",
   "execution_count": 2,
   "metadata": {},
   "outputs": [
    {
     "data": {
      "text/plain": [
       "array([ 0.17457231, -1.88734069,  0.27378712, -0.77648721, -0.55958724,\n",
       "       -0.47063225, -0.73808536,  1.83957058,  0.00309406,  0.75130573,\n",
       "       -0.33413325, -0.67389771,  0.17315008,  1.85041587, -0.87348334,\n",
       "       -1.96649657,  0.82003852, -0.78804404,  0.35489975, -0.49567212,\n",
       "        0.07673238,  0.30729399,  2.68804152,  0.13240582,  0.23217722,\n",
       "       -1.83258787,  1.28117284,  0.54196538, -0.32533976, -1.11867033,\n",
       "       -0.01498879,  1.0623883 ,  0.37982087, -0.55896314,  0.31840562,\n",
       "       -0.73290621, -2.27582182, -0.92759081, -0.27458454,  0.63341354,\n",
       "        0.61544656, -0.84228229,  1.60131077, -1.6459211 ,  0.56044429,\n",
       "       -0.2772544 , -0.63481569,  0.180513  ,  0.16081974,  1.25953333,\n",
       "       -0.77834629,  0.04685155,  0.07263471,  0.15991183,  1.1204807 ,\n",
       "        1.48192329,  0.58972851,  0.07847677,  1.38081866, -0.92665483,\n",
       "       -0.70238255, -0.73982969,  0.93952313, -0.51508744, -0.38694504,\n",
       "       -2.47577512,  0.94221022,  1.10680504, -0.05306652, -0.25147923,\n",
       "        0.60611724,  0.3659832 , -0.33859742, -0.64359524,  0.53254989,\n",
       "       -0.02442218, -0.67338042, -1.02466644, -0.92629598,  0.22422437,\n",
       "        0.51508884, -0.52802302, -0.87334133, -1.13783232,  1.00284258,\n",
       "       -0.93107044,  0.47728973,  0.8411279 , -0.82846013,  0.862197  ,\n",
       "       -1.28258754, -0.44124708, -0.39879391, -1.41385178, -0.95823315,\n",
       "       -1.02550403, -0.93506437,  1.53775947,  0.48332699, -0.96745398])"
      ]
     },
     "execution_count": 2,
     "metadata": {},
     "output_type": "execute_result"
    }
   ],
   "source": [
    "x"
   ]
  },
  {
   "cell_type": "markdown",
   "metadata": {},
   "source": [
    "### 1.2 生成误差项（随机扰动项）$\\epsilon$， 服从标准正态分布"
   ]
  },
  {
   "cell_type": "code",
   "execution_count": 3,
   "metadata": {},
   "outputs": [],
   "source": [
    "e = np.random.normal(loc=0.0, scale = 1.0, size=(n_sample))"
   ]
  },
  {
   "cell_type": "markdown",
   "metadata": {},
   "source": [
    "### 1.3 生成输出Y"
   ]
  },
  {
   "cell_type": "code",
   "execution_count": 4,
   "metadata": {},
   "outputs": [],
   "source": [
    "true_theta0 = 1 ## theta0的真实值\n",
    "true_theta1 = 5 ## theta1的真实值\n",
    "\n",
    "y = true_theta0 + true_theta1*x + e"
   ]
  },
  {
   "cell_type": "code",
   "execution_count": 5,
   "metadata": {},
   "outputs": [
    {
     "data": {
      "text/plain": [
       "array([  2.32923731,  -7.16638212,   3.10877543,  -1.60190769,\n",
       "        -1.3969536 ,  -1.39167754,  -1.85301389,  11.01010765,\n",
       "        -0.29442565,   4.94834741,  -0.87581756,   0.32833046,\n",
       "         0.29807139,  11.48496226,  -3.50861901, -11.69077408,\n",
       "         4.41707948,  -2.96033472,   2.80205281,  -1.70904702,\n",
       "         1.4479437 ,   3.69011649,  14.49024055,   1.64018481,\n",
       "         3.98587546,  -8.42481847,   7.99304026,   2.82230899,\n",
       "         1.52630761,  -4.71756069,  -0.34753396,   7.41768323,\n",
       "         3.18416632,  -2.68753459,   1.50251375,  -1.81041208,\n",
       "       -10.38252828,  -3.38692901,  -0.27550106,   4.87383952,\n",
       "         4.01186224,  -1.89741417,   7.85375635,  -8.11705784,\n",
       "         4.78146176,  -2.56424827,  -1.61991413,   2.75432777,\n",
       "         3.23374325,   7.90789787,  -2.79160518,   0.51737102,\n",
       "         0.66436404,   2.46588962,   5.407513  ,  10.35762832,\n",
       "         3.62267122,   1.31928176,   8.67470548,  -3.22718713,\n",
       "        -2.66046195,  -1.77976574,   5.8112175 ,  -1.40661994,\n",
       "        -0.79024943, -11.42846191,   7.34464178,   6.54603509,\n",
       "         1.28828386,  -1.42663087,   3.0018058 ,   1.63569109,\n",
       "         0.55645873,  -0.6266836 ,   4.19065557,  -0.9536452 ,\n",
       "        -2.59420213,  -6.87124996,  -4.7138613 ,   3.11504601,\n",
       "         5.27337862,  -1.61693872,  -4.77203895,  -5.49819422,\n",
       "         4.29093009,  -3.57943873,   2.9303297 ,   4.98907253,\n",
       "        -3.61543396,   6.79600986,  -4.86496224,  -2.06526656,\n",
       "         1.24444566,  -6.16182291,  -2.8374103 ,  -5.24899509,\n",
       "        -3.89968188,   7.86567119,   2.25713532,  -4.15137719])"
      ]
     },
     "execution_count": 5,
     "metadata": {},
     "output_type": "execute_result"
    }
   ],
   "source": [
    "y"
   ]
  },
  {
   "cell_type": "markdown",
   "metadata": {},
   "source": [
    "## 2. 定义代价函数(cost function)"
   ]
  },
  {
   "cell_type": "markdown",
   "metadata": {},
   "source": [
    "线性回归模型$h(x)=\\theta_0+\\theta_1x$的成本函数为平均均方误差：$J(\\theta_0, \\theta_1)=\\frac{1}{2m}\\sum_{i=1}^m (h(x^{(i)}) - y^{(i)})^2$"
   ]
  },
  {
   "cell_type": "code",
   "execution_count": 6,
   "metadata": {},
   "outputs": [],
   "source": [
    "def cost_fnc(x, y, theta0, theta1):\n",
    "    m = x.shape[0] ## m为实例数\n",
    "    \n",
    "    ## 计算一元线性回归的成本：用for循环计算所有实例的均方误差和\n",
    "    cost = 0 # 成本的初始值为0     \n",
    "    for i in range(m): # 对每一个实例i，计算均方误差\n",
    "        h_theta = theta0 + theta1*x[i]  ## h(xi)\n",
    "        cost = cost + (h_theta - y[i])**2  \n",
    "    \n",
    "    average_cost = 1/(2*m)*cost ## 求平均\n",
    "        \n",
    "    return average_cost    # cost_fnc将返回平均均方误差"
   ]
  },
  {
   "cell_type": "markdown",
   "metadata": {},
   "source": [
    "## 3. 定义梯度函数 (gradient)"
   ]
  },
  {
   "cell_type": "markdown",
   "metadata": {},
   "source": [
    "对$\\theta_0$求偏导：$\\frac{\\partial J}{\\partial \\theta_0}=\\frac{1}{m}\\sum_{i=1}^m(h(x^{(i)}) - y^{(i)})$\n",
    "\n",
    "对$\\theta_1$求偏导：$\\frac{\\partial J}{\\partial \\theta_1}=\\frac{1}{m}\\sum_{i=1}^m(h(x^{(i)}) - y^{(i)})x^{(i)}$"
   ]
  },
  {
   "cell_type": "code",
   "execution_count": 7,
   "metadata": {},
   "outputs": [],
   "source": [
    "def gradient_fnc(x, y, theta0, theta1):\n",
    "    \n",
    "    m = x.shape[0]\n",
    "    \n",
    "    \n",
    "    dj_theta0 = 0  ## 用dJ/dtheta0代表J关于theta0的偏导，初始值为0\n",
    "    dj_theta1 = 0  ## 用dJ/dtheta1代表J关于theta1的偏导，初始值为0\n",
    "    \n",
    "    ## for循环：按上面公式对每个实例i求和\n",
    "    for i in range(m):\n",
    "        h_theta = theta0 + theta1*x[i]\n",
    "        dj_theta0_i = (h_theta - y[i])  \n",
    "        dj_theta1_i = (h_theta - y[i])*x[i]  \n",
    "        \n",
    "        dj_theta0 = dj_theta0 + dj_theta0_i # 求和\n",
    "        dj_theta1 = dj_theta1 + dj_theta1_i\n",
    "        \n",
    "    dj_theta0 = dj_theta0 / m\n",
    "    dj_theta1 = dj_theta1 / m\n",
    "    \n",
    "    return dj_theta0, dj_theta1 # gradient_fnc将返回J对于theta0和theta1的偏导"
   ]
  },
  {
   "cell_type": "markdown",
   "metadata": {},
   "source": [
    "## 4. 定义梯度下降算法函数"
   ]
  },
  {
   "cell_type": "markdown",
   "metadata": {},
   "source": [
    "参数在每一次迭代的更新公式： $\\theta_j := \\theta_j - \\alpha \\frac{\\partial J}{\\partial \\theta_j}, j = 0, 1$"
   ]
  },
  {
   "cell_type": "code",
   "execution_count": 8,
   "metadata": {},
   "outputs": [],
   "source": [
    "def gradient_descent(x, y, theta0_init, theta1_init, alpha, max_iter, tol, cost_fnc, gradient_fnc):\n",
    "    \n",
    "    \"\"\"\n",
    "    theta0_init: theta0的初始值\n",
    "    theta1_init: theta1的初始值\n",
    "    alpha: 学习率\n",
    "    max_iter: 循环/迭代的最大次数\n",
    "    tol: 收敛条件:如果当前一步的代价J_current与上一步的代价J_old之差的绝对值<tol,则停止\n",
    "    cost_fnc: 代价函数\n",
    "    gradient_fnc: 梯度函数\n",
    "    \"\"\"\n",
    "    \n",
    "    Js = []  # 设置一个空List，将存储每次迭代的代价值\n",
    "    \n",
    "    theta0 = theta0_init # 设置theta0为其初始值\n",
    "    theta1 = theta1_init # 设置theta1为其初始值\n",
    "    \n",
    "    theta0_hist = [] # 设置一个空List，将存储每次迭代的theta0值\n",
    "    theta1_hist = [] # 设置一个空List，将存储每次迭代的theta1值\n",
    "\n",
    "    # i记录迭代\\循环次数\n",
    "    i = 0\n",
    "    while i < max_iter:\n",
    "        J_old = cost_fnc(x, y, theta0, theta1) # 计算上一步的代价, theta0, theta1为上一步的值\n",
    "        dj_theta0, dj_theta1 = gradient_fnc(x, y, theta0, theta1)  # 计算偏导，theta0、theta1为上一步的值\n",
    "        \n",
    "        # 更新theta0, theta 1\n",
    "        theta0 = theta0 - alpha * dj_theta0  # 填写theta0的更新公式\n",
    "        theta1 = theta1 - alpha * dj_theta1  # 填写theta1的更新公式\n",
    "        \n",
    "        J_current = cost_fnc(x, y, theta0, theta1)  # 计算更新后的代价\n",
    "        \n",
    "        Js.append(J_current) # 使用append函数，在Js中加入每次的代价J_current\n",
    "        theta0_hist.append(theta0) # 在theta0_hist中加入每次更新后的theta0\n",
    "        theta1_hist.append(theta1) # 在theta1_hist中加入每次更新后的theta1\n",
    "        \n",
    "        num_iter = i + 1 ## 记录迭代次数，在循环结束后，它存储的是最终的迭代次数\n",
    "        \n",
    "        if (abs(J_current - J_old) < tol): break # 如果当前一步的代价J_current与上一步的代价J_old之差的绝对值<tol,则停止\n",
    "            \n",
    "        i = i + 1 # 循环次数加1    \n",
    "        \n",
    "     \n",
    "    return theta0, theta1, Js, theta0_hist, theta1_hist, num_iter # # type: ignore 返回最终的theta0, theta1, 每次的代价Js，以及每次的theta0和theta1值"
   ]
  },
  {
   "cell_type": "markdown",
   "metadata": {},
   "source": [
    "## 5. 在生成的数据上用梯度下降拟合线性回归"
   ]
  },
  {
   "cell_type": "code",
   "execution_count": 9,
   "metadata": {},
   "outputs": [],
   "source": [
    "theta0_init = 0\n",
    "theta1_init = 0\n",
    "\n",
    "max_iter = 100000\n",
    "\n",
    "tol = 0.00000001\n",
    "alpha = 0.001\n",
    "\n",
    "theta0_final, theta1_final, Js, theta0_hist, theta1_hist, num_iter = gradient_descent(x, y, theta0_init, theta1_init, alpha, max_iter, tol, cost_fnc, gradient_fnc)"
   ]
  },
  {
   "cell_type": "markdown",
   "metadata": {},
   "source": [
    "## 6. 评价参数的估计"
   ]
  },
  {
   "cell_type": "markdown",
   "metadata": {},
   "source": [
    "查看估计的$\\theta_0$, $\\theta_1$值"
   ]
  },
  {
   "cell_type": "code",
   "execution_count": 10,
   "metadata": {},
   "outputs": [
    {
     "data": {
      "text/plain": [
       "(1.0669681212701714, 5.1315310521131385, 8531)"
      ]
     },
     "execution_count": 10,
     "metadata": {},
     "output_type": "execute_result"
    }
   ],
   "source": [
    "theta0_final, theta1_final,num_iter"
   ]
  },
  {
   "cell_type": "markdown",
   "metadata": {},
   "source": [
    "计算参数$\\theta$的均方误差： "
   ]
  },
  {
   "cell_type": "code",
   "execution_count": 11,
   "metadata": {},
   "outputs": [
    {
     "name": "stdout",
     "output_type": "stream",
     "text": [
      "0.010892573468222774\n"
     ]
    }
   ],
   "source": [
    "MSE = ((theta0_final - true_theta0)**2 + (theta1_final - true_theta1)**2)/2  ## 计算参数的均方误差\n",
    "\n",
    "print(MSE)"
   ]
  },
  {
   "cell_type": "markdown",
   "metadata": {},
   "source": [
    "## 7. 查看代价J如何随迭代变化"
   ]
  },
  {
   "cell_type": "code",
   "execution_count": 12,
   "metadata": {},
   "outputs": [
    {
     "data": {
      "image/png": "[encoded data removed]",
      "text/plain": [
       "<Figure size 640x480 with 1 Axes>"
      ]
     },
     "metadata": {},
     "output_type": "display_data"
    }
   ],
   "source": [
    "import matplotlib.pyplot as plt\n",
    "\n",
    "plt.figure()\n",
    "plt.plot(range(len(Js)), Js, 'b') \n",
    "plt.xlabel(\"Number of iterations\")\n",
    "plt.ylabel('Cost J')\n",
    "plt.show()"
   ]
  },
  {
   "cell_type": "markdown",
   "metadata": {},
   "source": [
    "### Q: 结果好吗？梯度下降算法是否收敛？查看num_iter。如果没有收敛，请增大max_iter的值。"
   ]
  },
  {
   "cell_type": "markdown",
   "metadata": {},
   "source": [
    "### Q： 尝试改变步长alpha的值"
   ]
  },
  {
   "cell_type": "markdown",
   "metadata": {},
   "source": [
    "查看每次迭代相对应的$\\theta_0$, $\\theta_1$，和代价J的值"
   ]
  },
  {
   "cell_type": "code",
   "execution_count": 13,
   "metadata": {},
   "outputs": [],
   "source": [
    "import pandas as pd\n",
    "\n",
    "df = pd.DataFrame(columns = ['theta0', 'theta1', 'cost'])\n",
    "df['theta0'], df['theta1'], df['cost'] = theta0_hist, theta1_hist, Js"
   ]
  },
  {
   "cell_type": "code",
   "execution_count": 14,
   "metadata": {},
   "outputs": [
    {
     "data": {
      "text/html": [
       "<div>\n",
       "<style scoped>\n",
       "    .dataframe tbody tr th:only-of-type {\n",
       "        vertical-align: middle;\n",
       "    }\n",
       "\n",
       "    .dataframe tbody tr th {\n",
       "        vertical-align: top;\n",
       "    }\n",
       "\n",
       "    .dataframe thead th {\n",
       "        text-align: right;\n",
       "    }\n",
       "</style>\n",
       "<table border=\"1\" class=\"dataframe\">\n",
       "  <thead>\n",
       "    <tr style=\"text-align: right;\">\n",
       "      <th></th>\n",
       "      <th>theta0</th>\n",
       "      <th>theta1</th>\n",
       "      <th>cost</th>\n",
       "    </tr>\n",
       "  </thead>\n",
       "  <tbody>\n",
       "    <tr>\n",
       "      <th>0</th>\n",
       "      <td>0.000577</td>\n",
       "      <td>0.004519</td>\n",
       "      <td>12.437591</td>\n",
       "    </tr>\n",
       "    <tr>\n",
       "      <th>1</th>\n",
       "      <td>0.001155</td>\n",
       "      <td>0.009034</td>\n",
       "      <td>12.416880</td>\n",
       "    </tr>\n",
       "    <tr>\n",
       "      <th>2</th>\n",
       "      <td>0.001732</td>\n",
       "      <td>0.013545</td>\n",
       "      <td>12.396206</td>\n",
       "    </tr>\n",
       "    <tr>\n",
       "      <th>3</th>\n",
       "      <td>0.002309</td>\n",
       "      <td>0.018052</td>\n",
       "      <td>12.375569</td>\n",
       "    </tr>\n",
       "    <tr>\n",
       "      <th>4</th>\n",
       "      <td>0.002886</td>\n",
       "      <td>0.022556</td>\n",
       "      <td>12.354967</td>\n",
       "    </tr>\n",
       "    <tr>\n",
       "      <th>...</th>\n",
       "      <td>...</td>\n",
       "      <td>...</td>\n",
       "      <td>...</td>\n",
       "    </tr>\n",
       "    <tr>\n",
       "      <th>8526</th>\n",
       "      <td>1.066962</td>\n",
       "      <td>5.131520</td>\n",
       "      <td>0.547284</td>\n",
       "    </tr>\n",
       "    <tr>\n",
       "      <th>8527</th>\n",
       "      <td>1.066964</td>\n",
       "      <td>5.131523</td>\n",
       "      <td>0.547284</td>\n",
       "    </tr>\n",
       "    <tr>\n",
       "      <th>8528</th>\n",
       "      <td>1.066965</td>\n",
       "      <td>5.131525</td>\n",
       "      <td>0.547284</td>\n",
       "    </tr>\n",
       "    <tr>\n",
       "      <th>8529</th>\n",
       "      <td>1.066967</td>\n",
       "      <td>5.131528</td>\n",
       "      <td>0.547284</td>\n",
       "    </tr>\n",
       "    <tr>\n",
       "      <th>8530</th>\n",
       "      <td>1.066968</td>\n",
       "      <td>5.131531</td>\n",
       "      <td>0.547284</td>\n",
       "    </tr>\n",
       "  </tbody>\n",
       "</table>\n",
       "<p>8531 rows × 3 columns</p>\n",
       "</div>"
      ],
      "text/plain": [
       "        theta0    theta1       cost\n",
       "0     0.000577  0.004519  12.437591\n",
       "1     0.001155  0.009034  12.416880\n",
       "2     0.001732  0.013545  12.396206\n",
       "3     0.002309  0.018052  12.375569\n",
       "4     0.002886  0.022556  12.354967\n",
       "...        ...       ...        ...\n",
       "8526  1.066962  5.131520   0.547284\n",
       "8527  1.066964  5.131523   0.547284\n",
       "8528  1.066965  5.131525   0.547284\n",
       "8529  1.066967  5.131528   0.547284\n",
       "8530  1.066968  5.131531   0.547284\n",
       "\n",
       "[8531 rows x 3 columns]"
      ]
     },
     "execution_count": 14,
     "metadata": {},
     "output_type": "execute_result"
    }
   ],
   "source": [
    "df"
   ]
  },
  {
   "cell_type": "markdown",
   "metadata": {},
   "source": [
    "## 8. 评价输出Y的预测准确度"
   ]
  },
  {
   "cell_type": "code",
   "execution_count": 15,
   "metadata": {},
   "outputs": [],
   "source": [
    "y_pred = theta0_final + theta1_final*x"
   ]
  },
  {
   "cell_type": "code",
   "execution_count": 16,
   "metadata": {},
   "outputs": [],
   "source": [
    "from sklearn import metrics\n",
    "import numpy as np\n",
    "\n",
    "MSE_y = metrics.mean_squared_error(y_pred, y)\n"
   ]
  },
  {
   "cell_type": "code",
   "execution_count": 17,
   "metadata": {},
   "outputs": [
    {
     "data": {
      "text/plain": [
       "1.0945673639000426"
      ]
     },
     "execution_count": 17,
     "metadata": {},
     "output_type": "execute_result"
    }
   ],
   "source": [
    "MSE_y"
   ]
  },
  {
   "cell_type": "code",
   "execution_count": 18,
   "metadata": {},
   "outputs": [
    {
     "data": {
      "text/plain": [
       "1.0945673639000426"
      ]
     },
     "execution_count": 18,
     "metadata": {},
     "output_type": "execute_result"
    }
   ],
   "source": [
    "MSE_y = sum((y_pred - y)**2)/len(y) ## 与上面等价\n",
    "MSE_y"
   ]
  },
  {
   "cell_type": "markdown",
   "metadata": {},
   "source": [
    "## 9. 与最小二乘法比较"
   ]
  },
  {
   "cell_type": "markdown",
   "metadata": {},
   "source": [
    "函数LinearRegression()使用的是最小二乘法"
   ]
  },
  {
   "cell_type": "code",
   "execution_count": 19,
   "metadata": {},
   "outputs": [],
   "source": [
    "from sklearn.linear_model import LinearRegression"
   ]
  },
  {
   "cell_type": "code",
   "execution_count": 20,
   "metadata": {},
   "outputs": [],
   "source": [
    "linreg = LinearRegression() ## 使用默认参数设置"
   ]
  },
  {
   "cell_type": "code",
   "execution_count": 21,
   "metadata": {},
   "outputs": [
    {
     "data": {
      "text/html": [
       "<style>#sk-container-id-1 {color: black;}#sk-container-id-1 pre{padding: 0;}#sk-container-id-1 div.sk-toggleable {background-color: white;}#sk-container-id-1 label.sk-toggleable__label {cursor: pointer;display: block;width: 100%;margin-bottom: 0;padding: 0.3em;box-sizing: border-box;text-align: center;}#sk-container-id-1 label.sk-toggleable__label-arrow:before {content: \"▸\";float: left;margin-right: 0.25em;color: #696969;}#sk-container-id-1 label.sk-toggleable__label-arrow:hover:before {color: black;}#sk-container-id-1 div.sk-estimator:hover label.sk-toggleable__label-arrow:before {color: black;}#sk-container-id-1 div.sk-toggleable__content {max-height: 0;max-width: 0;overflow: hidden;text-align: left;background-color: #f0f8ff;}#sk-container-id-1 div.sk-toggleable__content pre {margin: 0.2em;color: black;border-radius: 0.25em;background-color: #f0f8ff;}#sk-container-id-1 input.sk-toggleable__control:checked~div.sk-toggleable__content {max-height: 200px;max-width: 100%;overflow: auto;}#sk-container-id-1 input.sk-toggleable__control:checked~label.sk-toggleable__label-arrow:before {content: \"▾\";}#sk-container-id-1 div.sk-estimator input.sk-toggleable__control:checked~label.sk-toggleable__label {background-color: #d4ebff;}#sk-container-id-1 div.sk-label input.sk-toggleable__control:checked~label.sk-toggleable__label {background-color: #d4ebff;}#sk-container-id-1 input.sk-hidden--visually {border: 0;clip: rect(1px 1px 1px 1px);clip: rect(1px, 1px, 1px, 1px);height: 1px;margin: -1px;overflow: hidden;padding: 0;position: absolute;width: 1px;}#sk-container-id-1 div.sk-estimator {font-family: monospace;background-color: #f0f8ff;border: 1px dotted black;border-radius: 0.25em;box-sizing: border-box;margin-bottom: 0.5em;}#sk-container-id-1 div.sk-estimator:hover {background-color: #d4ebff;}#sk-container-id-1 div.sk-parallel-item::after {content: \"\";width: 100%;border-bottom: 1px solid gray;flex-grow: 1;}#sk-container-id-1 div.sk-label:hover label.sk-toggleable__label {background-color: #d4ebff;}#sk-container-id-1 div.sk-serial::before {content: \"\";position: absolute;border-left: 1px solid gray;box-sizing: border-box;top: 0;bottom: 0;left: 50%;z-index: 0;}#sk-container-id-1 div.sk-serial {display: flex;flex-direction: column;align-items: center;background-color: white;padding-right: 0.2em;padding-left: 0.2em;position: relative;}#sk-container-id-1 div.sk-item {position: relative;z-index: 1;}#sk-container-id-1 div.sk-parallel {display: flex;align-items: stretch;justify-content: center;background-color: white;position: relative;}#sk-container-id-1 div.sk-item::before, #sk-container-id-1 div.sk-parallel-item::before {content: \"\";position: absolute;border-left: 1px solid gray;box-sizing: border-box;top: 0;bottom: 0;left: 50%;z-index: -1;}#sk-container-id-1 div.sk-parallel-item {display: flex;flex-direction: column;z-index: 1;position: relative;background-color: white;}#sk-container-id-1 div.sk-parallel-item:first-child::after {align-self: flex-end;width: 50%;}#sk-container-id-1 div.sk-parallel-item:last-child::after {align-self: flex-start;width: 50%;}#sk-container-id-1 div.sk-parallel-item:only-child::after {width: 0;}#sk-container-id-1 div.sk-dashed-wrapped {border: 1px dashed gray;margin: 0 0.4em 0.5em 0.4em;box-sizing: border-box;padding-bottom: 0.4em;background-color: white;}#sk-container-id-1 div.sk-label label {font-family: monospace;font-weight: bold;display: inline-block;line-height: 1.2em;}#sk-container-id-1 div.sk-label-container {text-align: center;}#sk-container-id-1 div.sk-container {/* jupyter's `normalize.less` sets `[hidden] { display: none; }` but bootstrap.min.css set `[hidden] { display: none !important; }` so we also need the `!important` here to be able to override the default hidden behavior on the sphinx rendered scikit-learn.org. See: https://github.com/scikit-learn/scikit-learn/issues/21755 */display: inline-block !important;position: relative;}#sk-container-id-1 div.sk-text-repr-fallback {display: none;}</style><div id=\"sk-container-id-1\" class=\"sk-top-container\"><div class=\"sk-text-repr-fallback\"><pre>LinearRegression()</pre><b>In a Jupyter environment, please rerun this cell to show the HTML representation or trust the notebook. <br />On GitHub, the HTML representation is unable to render, please try loading this page with nbviewer.org.</b></div><div class=\"sk-container\" hidden><div class=\"sk-item\"><div class=\"sk-estimator sk-toggleable\"><input class=\"sk-toggleable__control sk-hidden--visually\" id=\"sk-estimator-id-1\" type=\"checkbox\" checked><label for=\"sk-estimator-id-1\" class=\"sk-toggleable__label sk-toggleable__label-arrow\">LinearRegression</label><div class=\"sk-toggleable__content\"><pre>LinearRegression()</pre></div></div></div></div></div>"
      ],
      "text/plain": [
       "LinearRegression()"
      ]
     },
     "execution_count": 21,
     "metadata": {},
     "output_type": "execute_result"
    }
   ],
   "source": [
    "linreg.fit(x.reshape(-1, 1), y)"
   ]
  },
  {
   "cell_type": "code",
   "execution_count": 22,
   "metadata": {},
   "outputs": [
    {
     "name": "stdout",
     "output_type": "stream",
     "text": [
      "1.0687280661760497\n",
      "[5.13484024]\n"
     ]
    }
   ],
   "source": [
    "print (linreg.intercept_)\n",
    "print (linreg.coef_)"
   ]
  }
 ],
 "metadata": {
  "kernelspec": {
   "display_name": "Python 3",
   "language": "python",
   "name": "python3"
  },
  "language_info": {
   "codemirror_mode": {
    "name": "ipython",
    "version": 3
   },
   "file_extension": ".py",
   "mimetype": "text/x-python",
   "name": "python",
   "nbconvert_exporter": "python",
   "pygments_lexer": "ipython3",
   "version": "3.9.7"
  }
 },
 "nbformat": 4,
 "nbformat_minor": 4
}
